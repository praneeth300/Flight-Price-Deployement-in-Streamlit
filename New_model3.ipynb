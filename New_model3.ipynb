{
 "cells": [
  {
   "cell_type": "code",
   "execution_count": 24,
   "metadata": {
    "id": "WRTy-WYP9H90"
   },
   "outputs": [],
   "source": [
    "import pandas as pd\n",
    "import numpy as np"
   ]
  },
  {
   "cell_type": "code",
   "execution_count": 25,
   "metadata": {
    "colab": {
     "base_uri": "https://localhost:8080/"
    },
    "id": "Fgc1N4uYOGsH",
    "outputId": "c222b0d6-eee1-413c-8581-32e0389311f3"
   },
   "outputs": [
    {
     "data": {
      "text/plain": [
       "Index(['Price', 'departure_time', 'arrival_time', 'Airline', 'Cabin',\n",
       "       'Dept_city', 'Dept_date', 'arrival_city', 'stops', 'duration',\n",
       "       'weekday', 'dept_hours', 'Dept_flights_time', 'optimal_hours'],\n",
       "      dtype='object')"
      ]
     },
     "execution_count": 25,
     "metadata": {},
     "output_type": "execute_result"
    }
   ],
   "source": [
    "df = pd.read_csv(\"trainable_complete2.csv\")\n",
    "df.columns"
   ]
  },
  {
   "cell_type": "code",
   "execution_count": 26,
   "metadata": {
    "id": "XsMJWFGG9iNx"
   },
   "outputs": [],
   "source": [
    "df[\"optimal_time\"]=df[\"dept_hours\"]-4"
   ]
  },
  {
   "cell_type": "code",
   "execution_count": 27,
   "metadata": {
    "colab": {
     "base_uri": "https://localhost:8080/",
     "height": 224
    },
    "id": "BZ6vTVkA9juS",
    "outputId": "2309e133-9e91-4a29-dc36-13d54164e718"
   },
   "outputs": [
    {
     "data": {
      "text/html": [
       "<div>\n",
       "<style scoped>\n",
       "    .dataframe tbody tr th:only-of-type {\n",
       "        vertical-align: middle;\n",
       "    }\n",
       "\n",
       "    .dataframe tbody tr th {\n",
       "        vertical-align: top;\n",
       "    }\n",
       "\n",
       "    .dataframe thead th {\n",
       "        text-align: right;\n",
       "    }\n",
       "</style>\n",
       "<table border=\"1\" class=\"dataframe\">\n",
       "  <thead>\n",
       "    <tr style=\"text-align: right;\">\n",
       "      <th></th>\n",
       "      <th>Price</th>\n",
       "      <th>departure_time</th>\n",
       "      <th>arrival_time</th>\n",
       "      <th>Airline</th>\n",
       "      <th>Cabin</th>\n",
       "      <th>Dept_city</th>\n",
       "      <th>Dept_date</th>\n",
       "      <th>arrival_city</th>\n",
       "      <th>stops</th>\n",
       "      <th>duration</th>\n",
       "      <th>weekday</th>\n",
       "      <th>dept_hours</th>\n",
       "      <th>Dept_flights_time</th>\n",
       "      <th>optimal_hours</th>\n",
       "      <th>optimal_time</th>\n",
       "    </tr>\n",
       "  </thead>\n",
       "  <tbody>\n",
       "    <tr>\n",
       "      <th>0</th>\n",
       "      <td>3112</td>\n",
       "      <td>14:30</td>\n",
       "      <td>20:20</td>\n",
       "      <td>AirAsia</td>\n",
       "      <td>E</td>\n",
       "      <td>New Delhi</td>\n",
       "      <td>1</td>\n",
       "      <td>Mumbai</td>\n",
       "      <td>1</td>\n",
       "      <td>350</td>\n",
       "      <td>5</td>\n",
       "      <td>14</td>\n",
       "      <td>Afternoon_flight</td>\n",
       "      <td>11</td>\n",
       "      <td>10</td>\n",
       "    </tr>\n",
       "    <tr>\n",
       "      <th>1</th>\n",
       "      <td>3113</td>\n",
       "      <td>16:55</td>\n",
       "      <td>21:10</td>\n",
       "      <td>Go Air</td>\n",
       "      <td>E</td>\n",
       "      <td>New Delhi</td>\n",
       "      <td>1</td>\n",
       "      <td>Mumbai</td>\n",
       "      <td>1</td>\n",
       "      <td>255</td>\n",
       "      <td>5</td>\n",
       "      <td>16</td>\n",
       "      <td>Evening_flight</td>\n",
       "      <td>13</td>\n",
       "      <td>12</td>\n",
       "    </tr>\n",
       "    <tr>\n",
       "      <th>2</th>\n",
       "      <td>3113</td>\n",
       "      <td>16:45</td>\n",
       "      <td>21:05</td>\n",
       "      <td>Go Air</td>\n",
       "      <td>E</td>\n",
       "      <td>New Delhi</td>\n",
       "      <td>1</td>\n",
       "      <td>Mumbai</td>\n",
       "      <td>1</td>\n",
       "      <td>260</td>\n",
       "      <td>5</td>\n",
       "      <td>16</td>\n",
       "      <td>Evening_flight</td>\n",
       "      <td>13</td>\n",
       "      <td>12</td>\n",
       "    </tr>\n",
       "    <tr>\n",
       "      <th>3</th>\n",
       "      <td>3113</td>\n",
       "      <td>07:55</td>\n",
       "      <td>13:00</td>\n",
       "      <td>Go Air</td>\n",
       "      <td>E</td>\n",
       "      <td>New Delhi</td>\n",
       "      <td>1</td>\n",
       "      <td>Mumbai</td>\n",
       "      <td>1</td>\n",
       "      <td>305</td>\n",
       "      <td>5</td>\n",
       "      <td>7</td>\n",
       "      <td>Morning_flight</td>\n",
       "      <td>4</td>\n",
       "      <td>3</td>\n",
       "    </tr>\n",
       "    <tr>\n",
       "      <th>4</th>\n",
       "      <td>3113</td>\n",
       "      <td>09:00</td>\n",
       "      <td>14:20</td>\n",
       "      <td>Go Air</td>\n",
       "      <td>E</td>\n",
       "      <td>New Delhi</td>\n",
       "      <td>1</td>\n",
       "      <td>Mumbai</td>\n",
       "      <td>1</td>\n",
       "      <td>320</td>\n",
       "      <td>5</td>\n",
       "      <td>9</td>\n",
       "      <td>Morning_flight</td>\n",
       "      <td>6</td>\n",
       "      <td>5</td>\n",
       "    </tr>\n",
       "  </tbody>\n",
       "</table>\n",
       "</div>"
      ],
      "text/plain": [
       "   Price departure_time arrival_time  Airline Cabin  Dept_city  Dept_date  \\\n",
       "0   3112          14:30        20:20  AirAsia     E  New Delhi          1   \n",
       "1   3113          16:55        21:10   Go Air     E  New Delhi          1   \n",
       "2   3113          16:45        21:05   Go Air     E  New Delhi          1   \n",
       "3   3113          07:55        13:00   Go Air     E  New Delhi          1   \n",
       "4   3113          09:00        14:20   Go Air     E  New Delhi          1   \n",
       "\n",
       "  arrival_city  stops  duration  weekday  dept_hours Dept_flights_time  \\\n",
       "0      Mumbai       1       350        5          14  Afternoon_flight   \n",
       "1      Mumbai       1       255        5          16    Evening_flight   \n",
       "2      Mumbai       1       260        5          16    Evening_flight   \n",
       "3      Mumbai       1       305        5           7    Morning_flight   \n",
       "4      Mumbai       1       320        5           9    Morning_flight   \n",
       "\n",
       "   optimal_hours  optimal_time  \n",
       "0             11            10  \n",
       "1             13            12  \n",
       "2             13            12  \n",
       "3              4             3  \n",
       "4              6             5  "
      ]
     },
     "execution_count": 27,
     "metadata": {},
     "output_type": "execute_result"
    }
   ],
   "source": [
    "df.head()"
   ]
  },
  {
   "cell_type": "code",
   "execution_count": 28,
   "metadata": {
    "colab": {
     "base_uri": "https://localhost:8080/"
    },
    "id": "Ma0r2CvL9m5G",
    "outputId": "77b2e49a-df1b-4c87-c5d7-3bf653c73b22"
   },
   "outputs": [
    {
     "data": {
      "text/plain": [
       "Index(['Price', 'departure_time', 'arrival_time', 'Airline', 'Cabin',\n",
       "       'Dept_city', 'Dept_date', 'arrival_city', 'stops', 'duration',\n",
       "       'weekday', 'dept_hours', 'Dept_flights_time', 'optimal_hours',\n",
       "       'optimal_time'],\n",
       "      dtype='object')"
      ]
     },
     "execution_count": 28,
     "metadata": {},
     "output_type": "execute_result"
    }
   ],
   "source": [
    "df.columns"
   ]
  },
  {
   "cell_type": "code",
   "execution_count": 29,
   "metadata": {
    "id": "G6p2b-jt9qjS"
   },
   "outputs": [],
   "source": [
    "dff2=df.copy()"
   ]
  },
  {
   "cell_type": "code",
   "execution_count": 30,
   "metadata": {
    "colab": {
     "base_uri": "https://localhost:8080/"
    },
    "id": "TTiNYqyy9rKA",
    "outputId": "38af9100-cf02-4d4c-e609-498eb023731e"
   },
   "outputs": [
    {
     "name": "stderr",
     "output_type": "stream",
     "text": [
      "C:\\Users\\Dell\\anaconda3\\lib\\site-packages\\pandas\\core\\indexing.py:670: SettingWithCopyWarning: \n",
      "A value is trying to be set on a copy of a slice from a DataFrame\n",
      "\n",
      "See the caveats in the documentation: https://pandas.pydata.org/pandas-docs/stable/user_guide/indexing.html#returning-a-view-versus-a-copy\n",
      "  iloc._setitem_with_indexer(indexer, value)\n"
     ]
    },
    {
     "data": {
      "text/plain": [
       "count    330938.000000\n",
       "mean          8.793487\n",
       "std           4.883687\n",
       "min           0.000000\n",
       "25%           5.000000\n",
       "50%           8.000000\n",
       "75%          13.000000\n",
       "max          23.000000\n",
       "Name: optimal_time, dtype: float64"
      ]
     },
     "execution_count": 30,
     "metadata": {},
     "output_type": "execute_result"
    }
   ],
   "source": [
    "for i in range(df.shape[0]):\n",
    "  if df[\"optimal_time\"].iloc[i]<0:\n",
    "    df[\"optimal_time\"].iloc[i] +=24\n",
    "\n",
    "df[\"optimal_time\"].describe()\n"
   ]
  },
  {
   "cell_type": "code",
   "execution_count": 31,
   "metadata": {
    "colab": {
     "base_uri": "https://localhost:8080/"
    },
    "id": "AnFYLB4YOlVQ",
    "outputId": "2a29ae2c-166d-4954-9393-fb24626b6cf4"
   },
   "outputs": [
    {
     "data": {
      "text/plain": [
       "Index(['Price', 'departure_time', 'arrival_time', 'Airline', 'Cabin',\n",
       "       'Dept_city', 'Dept_date', 'arrival_city', 'stops', 'duration',\n",
       "       'weekday', 'dept_hours', 'Dept_flights_time', 'optimal_hours',\n",
       "       'optimal_time'],\n",
       "      dtype='object')"
      ]
     },
     "execution_count": 31,
     "metadata": {},
     "output_type": "execute_result"
    }
   ],
   "source": [
    "df.columns"
   ]
  },
  {
   "cell_type": "code",
   "execution_count": 32,
   "metadata": {
    "id": "Iq356RByOvH8"
   },
   "outputs": [],
   "source": [
    "df.drop(labels = ['departure_time','arrival_time','optimal_hours'],axis=1,inplace=True)"
   ]
  },
  {
   "cell_type": "code",
   "execution_count": 33,
   "metadata": {
    "id": "WSyfTva_9ur_"
   },
   "outputs": [],
   "source": [
    "ind=[]\n",
    "for i in range(df.shape[0]):\n",
    "  if \",\" in df[\"Airline\"].iloc[i]:\n",
    "    ind.append(i)\n",
    "df.drop(ind,inplace=True,axis=0)"
   ]
  },
  {
   "cell_type": "code",
   "execution_count": 34,
   "metadata": {
    "id": "VnpMygz09wBI"
   },
   "outputs": [],
   "source": [
    "air=df[\"Airline\"].value_counts().sort_values(ascending=False)\n",
    "air\n",
    "l1 = []\n",
    "l1.append(df[df[\"Airline\"] == \"flybig\"].index)\n",
    "l1.append(df[df[\"Airline\"] == \"TruJet\"].index)\n",
    "l1.append(df[df[\"Airline\"] == \"Air India Express\"].index)\n",
    "#print(l1)\n",
    "l2 = []\n",
    "for i in l1:\n",
    "    for j in i:\n",
    "        l2.append(j)\n",
    "df.drop(l2,inplace=True,axis=0)"
   ]
  },
  {
   "cell_type": "code",
   "execution_count": 35,
   "metadata": {
    "colab": {
     "base_uri": "https://localhost:8080/"
    },
    "id": "YQ5PiMq_9yac",
    "outputId": "7a8c1ab0-94bc-4876-8afc-74e3ddf6cdc6"
   },
   "outputs": [
    {
     "name": "stdout",
     "output_type": "stream",
     "text": [
      "<class 'pandas.core.frame.DataFrame'>\n",
      "Int64Index: 280821 entries, 0 to 330937\n",
      "Data columns (total 12 columns):\n",
      " #   Column             Non-Null Count   Dtype \n",
      "---  ------             --------------   ----- \n",
      " 0   Price              280821 non-null  int64 \n",
      " 1   Airline            280821 non-null  object\n",
      " 2   Cabin              280821 non-null  object\n",
      " 3   Dept_city          280821 non-null  object\n",
      " 4   Dept_date          280821 non-null  int64 \n",
      " 5   arrival_city       280821 non-null  object\n",
      " 6   stops              280821 non-null  int64 \n",
      " 7   duration           280821 non-null  int64 \n",
      " 8   weekday            280821 non-null  int64 \n",
      " 9   dept_hours         280821 non-null  int64 \n",
      " 10  Dept_flights_time  280821 non-null  object\n",
      " 11  optimal_time       280821 non-null  int64 \n",
      "dtypes: int64(7), object(5)\n",
      "memory usage: 37.9+ MB\n"
     ]
    }
   ],
   "source": [
    "df.info()"
   ]
  },
  {
   "cell_type": "code",
   "execution_count": 36,
   "metadata": {
    "colab": {
     "base_uri": "https://localhost:8080/",
     "height": 111
    },
    "id": "V3XUX7Om_iHO",
    "outputId": "19919898-2346-4779-974c-9425d26c59d1"
   },
   "outputs": [
    {
     "data": {
      "text/html": [
       "<div>\n",
       "<style scoped>\n",
       "    .dataframe tbody tr th:only-of-type {\n",
       "        vertical-align: middle;\n",
       "    }\n",
       "\n",
       "    .dataframe tbody tr th {\n",
       "        vertical-align: top;\n",
       "    }\n",
       "\n",
       "    .dataframe thead tr th {\n",
       "        text-align: left;\n",
       "    }\n",
       "</style>\n",
       "<table border=\"1\" class=\"dataframe\">\n",
       "  <thead>\n",
       "    <tr>\n",
       "      <th>Airline</th>\n",
       "      <th colspan=\"2\" halign=\"left\">Air India</th>\n",
       "      <th>AirAsia</th>\n",
       "      <th>Go Air</th>\n",
       "      <th>IndiGo</th>\n",
       "      <th colspan=\"2\" halign=\"left\">Spicejet</th>\n",
       "      <th colspan=\"3\" halign=\"left\">Vistara</th>\n",
       "    </tr>\n",
       "    <tr>\n",
       "      <th>Cabin</th>\n",
       "      <th>E</th>\n",
       "      <th>B</th>\n",
       "      <th>E</th>\n",
       "      <th>E</th>\n",
       "      <th>E</th>\n",
       "      <th>E</th>\n",
       "      <th>PE</th>\n",
       "      <th>B</th>\n",
       "      <th>E</th>\n",
       "      <th>PE</th>\n",
       "    </tr>\n",
       "  </thead>\n",
       "  <tbody>\n",
       "    <tr>\n",
       "      <th>Cabin</th>\n",
       "      <td>58846</td>\n",
       "      <td>53062</td>\n",
       "      <td>13729</td>\n",
       "      <td>25835</td>\n",
       "      <td>88266</td>\n",
       "      <td>16217</td>\n",
       "      <td>10440</td>\n",
       "      <td>5882</td>\n",
       "      <td>5845</td>\n",
       "      <td>2699</td>\n",
       "    </tr>\n",
       "  </tbody>\n",
       "</table>\n",
       "</div>"
      ],
      "text/plain": [
       "Airline Air India        AirAsia Go Air IndiGo Spicejet        Vistara        \\\n",
       "Cabin           E      B       E      E      E        E     PE       B     E   \n",
       "Cabin       58846  53062   13729  25835  88266    16217  10440    5882  5845   \n",
       "\n",
       "Airline        \n",
       "Cabin      PE  \n",
       "Cabin    2699  "
      ]
     },
     "execution_count": 36,
     "metadata": {},
     "output_type": "execute_result"
    }
   ],
   "source": [
    "pd.DataFrame(df.groupby('Airline')['Cabin'].value_counts()).T"
   ]
  },
  {
   "cell_type": "code",
   "execution_count": 37,
   "metadata": {
    "colab": {
     "base_uri": "https://localhost:8080/",
     "height": 204
    },
    "id": "YQeWfRNcHN1h",
    "outputId": "4db2575f-a847-4280-a05d-4d48f3c8e37d"
   },
   "outputs": [
    {
     "data": {
      "text/html": [
       "<div>\n",
       "<style scoped>\n",
       "    .dataframe tbody tr th:only-of-type {\n",
       "        vertical-align: middle;\n",
       "    }\n",
       "\n",
       "    .dataframe tbody tr th {\n",
       "        vertical-align: top;\n",
       "    }\n",
       "\n",
       "    .dataframe thead th {\n",
       "        text-align: right;\n",
       "    }\n",
       "</style>\n",
       "<table border=\"1\" class=\"dataframe\">\n",
       "  <thead>\n",
       "    <tr style=\"text-align: right;\">\n",
       "      <th></th>\n",
       "      <th>count</th>\n",
       "      <th>mean</th>\n",
       "      <th>std</th>\n",
       "      <th>min</th>\n",
       "      <th>25%</th>\n",
       "      <th>50%</th>\n",
       "      <th>75%</th>\n",
       "      <th>max</th>\n",
       "    </tr>\n",
       "    <tr>\n",
       "      <th>Dept_flights_time</th>\n",
       "      <th></th>\n",
       "      <th></th>\n",
       "      <th></th>\n",
       "      <th></th>\n",
       "      <th></th>\n",
       "      <th></th>\n",
       "      <th></th>\n",
       "      <th></th>\n",
       "    </tr>\n",
       "  </thead>\n",
       "  <tbody>\n",
       "    <tr>\n",
       "      <th>Afternoon_flight</th>\n",
       "      <td>85035.0</td>\n",
       "      <td>12.947492</td>\n",
       "      <td>1.376919</td>\n",
       "      <td>11.0</td>\n",
       "      <td>12.0</td>\n",
       "      <td>13.0</td>\n",
       "      <td>14.0</td>\n",
       "      <td>15.0</td>\n",
       "    </tr>\n",
       "    <tr>\n",
       "      <th>Evening_flight</th>\n",
       "      <td>68160.0</td>\n",
       "      <td>18.042356</td>\n",
       "      <td>1.408625</td>\n",
       "      <td>16.0</td>\n",
       "      <td>17.0</td>\n",
       "      <td>18.0</td>\n",
       "      <td>19.0</td>\n",
       "      <td>20.0</td>\n",
       "    </tr>\n",
       "    <tr>\n",
       "      <th>Morning_flight</th>\n",
       "      <td>101275.0</td>\n",
       "      <td>7.873384</td>\n",
       "      <td>1.512974</td>\n",
       "      <td>5.0</td>\n",
       "      <td>7.0</td>\n",
       "      <td>8.0</td>\n",
       "      <td>9.0</td>\n",
       "      <td>10.0</td>\n",
       "    </tr>\n",
       "    <tr>\n",
       "      <th>Night_flight</th>\n",
       "      <td>26351.0</td>\n",
       "      <td>19.302645</td>\n",
       "      <td>6.163981</td>\n",
       "      <td>0.0</td>\n",
       "      <td>21.0</td>\n",
       "      <td>21.0</td>\n",
       "      <td>22.0</td>\n",
       "      <td>23.0</td>\n",
       "    </tr>\n",
       "  </tbody>\n",
       "</table>\n",
       "</div>"
      ],
      "text/plain": [
       "                      count       mean       std   min   25%   50%   75%   max\n",
       "Dept_flights_time                                                             \n",
       "Afternoon_flight    85035.0  12.947492  1.376919  11.0  12.0  13.0  14.0  15.0\n",
       "Evening_flight      68160.0  18.042356  1.408625  16.0  17.0  18.0  19.0  20.0\n",
       "Morning_flight     101275.0   7.873384  1.512974   5.0   7.0   8.0   9.0  10.0\n",
       "Night_flight        26351.0  19.302645  6.163981   0.0  21.0  21.0  22.0  23.0"
      ]
     },
     "execution_count": 37,
     "metadata": {},
     "output_type": "execute_result"
    }
   ],
   "source": [
    "df.groupby(\"Dept_flights_time\")[\"dept_hours\"].describe()"
   ]
  },
  {
   "cell_type": "code",
   "execution_count": 38,
   "metadata": {
    "id": "ZSw9qaze_F7j"
   },
   "outputs": [],
   "source": [
    "df['Price'] = np.log(df['Price'])"
   ]
  },
  {
   "cell_type": "code",
   "execution_count": 39,
   "metadata": {
    "colab": {
     "base_uri": "https://localhost:8080/",
     "height": 204
    },
    "id": "p9Q-WiQHSRTn",
    "outputId": "7150cceb-cd3d-4e62-8bfa-3f5f8e751c01"
   },
   "outputs": [
    {
     "data": {
      "text/html": [
       "<div>\n",
       "<style scoped>\n",
       "    .dataframe tbody tr th:only-of-type {\n",
       "        vertical-align: middle;\n",
       "    }\n",
       "\n",
       "    .dataframe tbody tr th {\n",
       "        vertical-align: top;\n",
       "    }\n",
       "\n",
       "    .dataframe thead th {\n",
       "        text-align: right;\n",
       "    }\n",
       "</style>\n",
       "<table border=\"1\" class=\"dataframe\">\n",
       "  <thead>\n",
       "    <tr style=\"text-align: right;\">\n",
       "      <th></th>\n",
       "      <th>Price</th>\n",
       "      <th>Airline</th>\n",
       "      <th>Cabin</th>\n",
       "      <th>Dept_city</th>\n",
       "      <th>Dept_date</th>\n",
       "      <th>arrival_city</th>\n",
       "      <th>stops</th>\n",
       "      <th>duration</th>\n",
       "      <th>weekday</th>\n",
       "      <th>dept_hours</th>\n",
       "      <th>Dept_flights_time</th>\n",
       "      <th>optimal_time</th>\n",
       "    </tr>\n",
       "  </thead>\n",
       "  <tbody>\n",
       "    <tr>\n",
       "      <th>0</th>\n",
       "      <td>8.043021</td>\n",
       "      <td>AirAsia</td>\n",
       "      <td>E</td>\n",
       "      <td>New Delhi</td>\n",
       "      <td>1</td>\n",
       "      <td>Mumbai</td>\n",
       "      <td>1</td>\n",
       "      <td>350</td>\n",
       "      <td>5</td>\n",
       "      <td>14</td>\n",
       "      <td>Afternoon_flight</td>\n",
       "      <td>10</td>\n",
       "    </tr>\n",
       "    <tr>\n",
       "      <th>1</th>\n",
       "      <td>8.043342</td>\n",
       "      <td>Go Air</td>\n",
       "      <td>E</td>\n",
       "      <td>New Delhi</td>\n",
       "      <td>1</td>\n",
       "      <td>Mumbai</td>\n",
       "      <td>1</td>\n",
       "      <td>255</td>\n",
       "      <td>5</td>\n",
       "      <td>16</td>\n",
       "      <td>Evening_flight</td>\n",
       "      <td>12</td>\n",
       "    </tr>\n",
       "    <tr>\n",
       "      <th>2</th>\n",
       "      <td>8.043342</td>\n",
       "      <td>Go Air</td>\n",
       "      <td>E</td>\n",
       "      <td>New Delhi</td>\n",
       "      <td>1</td>\n",
       "      <td>Mumbai</td>\n",
       "      <td>1</td>\n",
       "      <td>260</td>\n",
       "      <td>5</td>\n",
       "      <td>16</td>\n",
       "      <td>Evening_flight</td>\n",
       "      <td>12</td>\n",
       "    </tr>\n",
       "    <tr>\n",
       "      <th>3</th>\n",
       "      <td>8.043342</td>\n",
       "      <td>Go Air</td>\n",
       "      <td>E</td>\n",
       "      <td>New Delhi</td>\n",
       "      <td>1</td>\n",
       "      <td>Mumbai</td>\n",
       "      <td>1</td>\n",
       "      <td>305</td>\n",
       "      <td>5</td>\n",
       "      <td>7</td>\n",
       "      <td>Morning_flight</td>\n",
       "      <td>3</td>\n",
       "    </tr>\n",
       "    <tr>\n",
       "      <th>4</th>\n",
       "      <td>8.043342</td>\n",
       "      <td>Go Air</td>\n",
       "      <td>E</td>\n",
       "      <td>New Delhi</td>\n",
       "      <td>1</td>\n",
       "      <td>Mumbai</td>\n",
       "      <td>1</td>\n",
       "      <td>320</td>\n",
       "      <td>5</td>\n",
       "      <td>9</td>\n",
       "      <td>Morning_flight</td>\n",
       "      <td>5</td>\n",
       "    </tr>\n",
       "  </tbody>\n",
       "</table>\n",
       "</div>"
      ],
      "text/plain": [
       "      Price  Airline Cabin  Dept_city  Dept_date arrival_city  stops  \\\n",
       "0  8.043021  AirAsia     E  New Delhi          1      Mumbai       1   \n",
       "1  8.043342   Go Air     E  New Delhi          1      Mumbai       1   \n",
       "2  8.043342   Go Air     E  New Delhi          1      Mumbai       1   \n",
       "3  8.043342   Go Air     E  New Delhi          1      Mumbai       1   \n",
       "4  8.043342   Go Air     E  New Delhi          1      Mumbai       1   \n",
       "\n",
       "   duration  weekday  dept_hours Dept_flights_time  optimal_time  \n",
       "0       350        5          14  Afternoon_flight            10  \n",
       "1       255        5          16    Evening_flight            12  \n",
       "2       260        5          16    Evening_flight            12  \n",
       "3       305        5           7    Morning_flight             3  \n",
       "4       320        5           9    Morning_flight             5  "
      ]
     },
     "execution_count": 39,
     "metadata": {},
     "output_type": "execute_result"
    }
   ],
   "source": [
    "df.head()"
   ]
  },
  {
   "cell_type": "markdown",
   "metadata": {
    "id": "XnXVO9qX93bi"
   },
   "source": [
    "## Economy dataset"
   ]
  },
  {
   "cell_type": "code",
   "execution_count": 40,
   "metadata": {
    "colab": {
     "base_uri": "https://localhost:8080/",
     "height": 204
    },
    "id": "NtQ2qpbN92jn",
    "outputId": "9f6dfd52-45bc-41cd-8593-99f60f64b22f"
   },
   "outputs": [
    {
     "data": {
      "text/html": [
       "<div>\n",
       "<style scoped>\n",
       "    .dataframe tbody tr th:only-of-type {\n",
       "        vertical-align: middle;\n",
       "    }\n",
       "\n",
       "    .dataframe tbody tr th {\n",
       "        vertical-align: top;\n",
       "    }\n",
       "\n",
       "    .dataframe thead th {\n",
       "        text-align: right;\n",
       "    }\n",
       "</style>\n",
       "<table border=\"1\" class=\"dataframe\">\n",
       "  <thead>\n",
       "    <tr style=\"text-align: right;\">\n",
       "      <th></th>\n",
       "      <th>Price</th>\n",
       "      <th>Airline</th>\n",
       "      <th>Cabin</th>\n",
       "      <th>Dept_city</th>\n",
       "      <th>Dept_date</th>\n",
       "      <th>arrival_city</th>\n",
       "      <th>stops</th>\n",
       "      <th>duration</th>\n",
       "      <th>weekday</th>\n",
       "      <th>dept_hours</th>\n",
       "      <th>Dept_flights_time</th>\n",
       "      <th>optimal_time</th>\n",
       "    </tr>\n",
       "  </thead>\n",
       "  <tbody>\n",
       "    <tr>\n",
       "      <th>0</th>\n",
       "      <td>8.043021</td>\n",
       "      <td>AirAsia</td>\n",
       "      <td>E</td>\n",
       "      <td>New Delhi</td>\n",
       "      <td>1</td>\n",
       "      <td>Mumbai</td>\n",
       "      <td>1</td>\n",
       "      <td>350</td>\n",
       "      <td>5</td>\n",
       "      <td>14</td>\n",
       "      <td>Afternoon_flight</td>\n",
       "      <td>10</td>\n",
       "    </tr>\n",
       "    <tr>\n",
       "      <th>1</th>\n",
       "      <td>8.043342</td>\n",
       "      <td>Go Air</td>\n",
       "      <td>E</td>\n",
       "      <td>New Delhi</td>\n",
       "      <td>1</td>\n",
       "      <td>Mumbai</td>\n",
       "      <td>1</td>\n",
       "      <td>255</td>\n",
       "      <td>5</td>\n",
       "      <td>16</td>\n",
       "      <td>Evening_flight</td>\n",
       "      <td>12</td>\n",
       "    </tr>\n",
       "    <tr>\n",
       "      <th>2</th>\n",
       "      <td>8.043342</td>\n",
       "      <td>Go Air</td>\n",
       "      <td>E</td>\n",
       "      <td>New Delhi</td>\n",
       "      <td>1</td>\n",
       "      <td>Mumbai</td>\n",
       "      <td>1</td>\n",
       "      <td>260</td>\n",
       "      <td>5</td>\n",
       "      <td>16</td>\n",
       "      <td>Evening_flight</td>\n",
       "      <td>12</td>\n",
       "    </tr>\n",
       "    <tr>\n",
       "      <th>3</th>\n",
       "      <td>8.043342</td>\n",
       "      <td>Go Air</td>\n",
       "      <td>E</td>\n",
       "      <td>New Delhi</td>\n",
       "      <td>1</td>\n",
       "      <td>Mumbai</td>\n",
       "      <td>1</td>\n",
       "      <td>305</td>\n",
       "      <td>5</td>\n",
       "      <td>7</td>\n",
       "      <td>Morning_flight</td>\n",
       "      <td>3</td>\n",
       "    </tr>\n",
       "    <tr>\n",
       "      <th>4</th>\n",
       "      <td>8.043342</td>\n",
       "      <td>Go Air</td>\n",
       "      <td>E</td>\n",
       "      <td>New Delhi</td>\n",
       "      <td>1</td>\n",
       "      <td>Mumbai</td>\n",
       "      <td>1</td>\n",
       "      <td>320</td>\n",
       "      <td>5</td>\n",
       "      <td>9</td>\n",
       "      <td>Morning_flight</td>\n",
       "      <td>5</td>\n",
       "    </tr>\n",
       "  </tbody>\n",
       "</table>\n",
       "</div>"
      ],
      "text/plain": [
       "      Price  Airline Cabin  Dept_city  Dept_date arrival_city  stops  \\\n",
       "0  8.043021  AirAsia     E  New Delhi          1      Mumbai       1   \n",
       "1  8.043342   Go Air     E  New Delhi          1      Mumbai       1   \n",
       "2  8.043342   Go Air     E  New Delhi          1      Mumbai       1   \n",
       "3  8.043342   Go Air     E  New Delhi          1      Mumbai       1   \n",
       "4  8.043342   Go Air     E  New Delhi          1      Mumbai       1   \n",
       "\n",
       "   duration  weekday  dept_hours Dept_flights_time  optimal_time  \n",
       "0       350        5          14  Afternoon_flight            10  \n",
       "1       255        5          16    Evening_flight            12  \n",
       "2       260        5          16    Evening_flight            12  \n",
       "3       305        5           7    Morning_flight             3  \n",
       "4       320        5           9    Morning_flight             5  "
      ]
     },
     "execution_count": 40,
     "metadata": {},
     "output_type": "execute_result"
    }
   ],
   "source": [
    "economy_class= df[df['Cabin'] == \"E\"]\n",
    "economy_class.head()"
   ]
  },
  {
   "cell_type": "code",
   "execution_count": 41,
   "metadata": {
    "id": "8aqJ1IAngJcE"
   },
   "outputs": [],
   "source": [
    "economy_dff = economy_class.copy()"
   ]
  },
  {
   "cell_type": "code",
   "execution_count": 42,
   "metadata": {
    "id": "zMmRgEbLZ7fV"
   },
   "outputs": [],
   "source": [
    "y1=economy_class[\"Price\"]"
   ]
  },
  {
   "cell_type": "code",
   "execution_count": 43,
   "metadata": {
    "colab": {
     "base_uri": "https://localhost:8080/"
    },
    "id": "lHgsykAh65Mk",
    "outputId": "ac9fa876-23c8-4d69-9519-8fa0d1521c43"
   },
   "outputs": [
    {
     "name": "stdout",
     "output_type": "stream",
     "text": [
      "Requirement already satisfied: catboost in c:\\users\\dell\\anaconda3\\lib\\site-packages (0.25.1)\n",
      "Requirement already satisfied: matplotlib in c:\\users\\dell\\anaconda3\\lib\\site-packages (from catboost) (3.3.2)\n",
      "Requirement already satisfied: six in c:\\users\\dell\\anaconda3\\lib\\site-packages (from catboost) (1.15.0)\n",
      "Requirement already satisfied: scipy in c:\\users\\dell\\anaconda3\\lib\\site-packages (from catboost) (1.5.2)\n",
      "Requirement already satisfied: numpy>=1.16.0 in c:\\users\\dell\\anaconda3\\lib\\site-packages (from catboost) (1.19.2)\n",
      "Requirement already satisfied: graphviz in c:\\users\\dell\\anaconda3\\lib\\site-packages (from catboost) (0.16)\n",
      "Requirement already satisfied: pandas>=0.24.0 in c:\\users\\dell\\anaconda3\\lib\\site-packages (from catboost) (1.1.3)\n",
      "Requirement already satisfied: plotly in c:\\users\\dell\\anaconda3\\lib\\site-packages (from catboost) (4.14.3)\n",
      "Requirement already satisfied: python-dateutil>=2.1 in c:\\users\\dell\\anaconda3\\lib\\site-packages (from matplotlib->catboost) (2.8.1)\n",
      "Requirement already satisfied: cycler>=0.10 in c:\\users\\dell\\anaconda3\\lib\\site-packages (from matplotlib->catboost) (0.10.0)\n",
      "Requirement already satisfied: kiwisolver>=1.0.1 in c:\\users\\dell\\anaconda3\\lib\\site-packages (from matplotlib->catboost) (1.3.0)\n",
      "Requirement already satisfied: certifi>=2020.06.20 in c:\\users\\dell\\anaconda3\\lib\\site-packages (from matplotlib->catboost) (2020.6.20)\n",
      "Requirement already satisfied: pyparsing!=2.0.4,!=2.1.2,!=2.1.6,>=2.0.3 in c:\\users\\dell\\anaconda3\\lib\\site-packages (from matplotlib->catboost) (2.4.7)\n",
      "Requirement already satisfied: pillow>=6.2.0 in c:\\users\\dell\\anaconda3\\lib\\site-packages (from matplotlib->catboost) (7.0.0)\n",
      "Requirement already satisfied: pytz>=2017.2 in c:\\users\\dell\\anaconda3\\lib\\site-packages (from pandas>=0.24.0->catboost) (2020.1)\n",
      "Requirement already satisfied: retrying>=1.3.3 in c:\\users\\dell\\anaconda3\\lib\\site-packages (from plotly->catboost) (1.3.3)\n"
     ]
    }
   ],
   "source": [
    "!pip install catboost"
   ]
  },
  {
   "cell_type": "code",
   "execution_count": 44,
   "metadata": {
    "colab": {
     "base_uri": "https://localhost:8080/"
    },
    "id": "foeMXVox90hp",
    "outputId": "50ccc864-19af-40d6-f856-dcf8742b9755"
   },
   "outputs": [
    {
     "name": "stderr",
     "output_type": "stream",
     "text": [
      "C:\\Users\\Dell\\anaconda3\\lib\\site-packages\\pandas\\core\\frame.py:4163: SettingWithCopyWarning: \n",
      "A value is trying to be set on a copy of a slice from a DataFrame\n",
      "\n",
      "See the caveats in the documentation: https://pandas.pydata.org/pandas-docs/stable/user_guide/indexing.html#returning-a-view-versus-a-copy\n",
      "  return super().drop(\n",
      "C:\\Users\\Dell\\anaconda3\\lib\\site-packages\\sklearn\\utils\\validation.py:72: DataConversionWarning: A column-vector y was passed when a 1d array was expected. Please change the shape of y to (n_samples, ), for example using ravel().\n",
      "  return f(**kwargs)\n",
      "<ipython-input-44-252c11ff9212>:6: SettingWithCopyWarning: \n",
      "A value is trying to be set on a copy of a slice from a DataFrame.\n",
      "Try using .loc[row_indexer,col_indexer] = value instead\n",
      "\n",
      "See the caveats in the documentation: https://pandas.pydata.org/pandas-docs/stable/user_guide/indexing.html#returning-a-view-versus-a-copy\n",
      "  economy_class[i]=encoder.fit_transform(economy_class[[i]])\n"
     ]
    },
    {
     "name": "stdout",
     "output_type": "stream",
     "text": [
      "RMSE :  0.000000\n",
      "R2 :  1.000000\n"
     ]
    }
   ],
   "source": [
    "economy_class.drop(columns=['duration','Cabin'],axis=1,inplace=True)\n",
    "x=[\"Airline\",\"Dept_flights_time\",\"Dept_city\",\"arrival_city\"]\n",
    "from sklearn.preprocessing import LabelEncoder\n",
    "for i in x:\n",
    "  encoder=LabelEncoder()\n",
    "  economy_class[i]=encoder.fit_transform(economy_class[[i]])\n",
    "\n",
    "x=economy_class.drop([\"Price\",\"optimal_time\"],axis=1)\n",
    "y=economy_class[\"optimal_time\"]\n",
    "y1=economy_class[\"Price\"]\n",
    "\n",
    "import xgboost as xg\n",
    "from sklearn.model_selection import train_test_split\n",
    "from sklearn.metrics import mean_squared_error,mean_absolute_error,r2_score\n",
    "x_train,x_test,y_train,y_test=train_test_split(x,y,test_size=0.25,random_state=0)\n",
    "#x_tr,x_cv,y_tr,y_cv=train_test_split(x_train,y_train,test_size=0.2,random_state=0)\n",
    "\n",
    "from sklearn.ensemble import RandomForestRegressor\n",
    "from xgboost import XGBRegressor\n",
    "from lightgbm import LGBMRegressor\n",
    "from catboost import CatBoostRegressor\n",
    "#ec = CatBoostRegressor()\n",
    "ec=LGBMRegressor(n_estimators=1200)\n",
    "#ec=RandomForestRegressor()\n",
    "ec.fit(x_train,y_train)\n",
    "#pred = rfg.predict(x_cv)\n",
    "pred = ec.predict(x_test)\n",
    "rmse = np.sqrt(mean_squared_error(y_test, pred))\n",
    "r2= r2_score(y_test, pred)\n",
    "print(\"RMSE : % f\" %(rmse))\n",
    "print(\"R2 : % f\" %(r2))"
   ]
  },
  {
   "cell_type": "code",
   "execution_count": 45,
   "metadata": {
    "colab": {
     "base_uri": "https://localhost:8080/",
     "height": 204
    },
    "id": "udK0mh8NX--m",
    "outputId": "91708507-47c2-4228-8a3d-86f7c16e9952"
   },
   "outputs": [
    {
     "data": {
      "text/html": [
       "<div>\n",
       "<style scoped>\n",
       "    .dataframe tbody tr th:only-of-type {\n",
       "        vertical-align: middle;\n",
       "    }\n",
       "\n",
       "    .dataframe tbody tr th {\n",
       "        vertical-align: top;\n",
       "    }\n",
       "\n",
       "    .dataframe thead th {\n",
       "        text-align: right;\n",
       "    }\n",
       "</style>\n",
       "<table border=\"1\" class=\"dataframe\">\n",
       "  <thead>\n",
       "    <tr style=\"text-align: right;\">\n",
       "      <th></th>\n",
       "      <th>Actual_data</th>\n",
       "      <th>Predicted</th>\n",
       "    </tr>\n",
       "  </thead>\n",
       "  <tbody>\n",
       "    <tr>\n",
       "      <th>86938</th>\n",
       "      <td>1</td>\n",
       "      <td>1.0</td>\n",
       "    </tr>\n",
       "    <tr>\n",
       "      <th>116799</th>\n",
       "      <td>15</td>\n",
       "      <td>15.0</td>\n",
       "    </tr>\n",
       "    <tr>\n",
       "      <th>69784</th>\n",
       "      <td>1</td>\n",
       "      <td>1.0</td>\n",
       "    </tr>\n",
       "    <tr>\n",
       "      <th>248424</th>\n",
       "      <td>18</td>\n",
       "      <td>18.0</td>\n",
       "    </tr>\n",
       "    <tr>\n",
       "      <th>140709</th>\n",
       "      <td>6</td>\n",
       "      <td>6.0</td>\n",
       "    </tr>\n",
       "  </tbody>\n",
       "</table>\n",
       "</div>"
      ],
      "text/plain": [
       "        Actual_data  Predicted\n",
       "86938             1        1.0\n",
       "116799           15       15.0\n",
       "69784             1        1.0\n",
       "248424           18       18.0\n",
       "140709            6        6.0"
      ]
     },
     "execution_count": 45,
     "metadata": {},
     "output_type": "execute_result"
    }
   ],
   "source": [
    "pd.DataFrame({\"Actual_data\":y_test,\"Predicted\":pred}).head()"
   ]
  },
  {
   "cell_type": "code",
   "execution_count": 46,
   "metadata": {
    "id": "X7uSqQ_Cgtiy"
   },
   "outputs": [],
   "source": [
    "import pickle\n",
    "pickle.dump(ec,open(\"EC_time_model.pickle\",\"wb\"))"
   ]
  },
  {
   "cell_type": "code",
   "execution_count": 47,
   "metadata": {
    "colab": {
     "base_uri": "https://localhost:8080/"
    },
    "id": "kE3kl3WNZWXr",
    "outputId": "dffcf3fd-3d56-4bb4-e46d-47922fa864da"
   },
   "outputs": [
    {
     "name": "stderr",
     "output_type": "stream",
     "text": [
      "<ipython-input-47-151244408a78>:1: SettingWithCopyWarning: \n",
      "A value is trying to be set on a copy of a slice from a DataFrame.\n",
      "Try using .loc[row_indexer,col_indexer] = value instead\n",
      "\n",
      "See the caveats in the documentation: https://pandas.pydata.org/pandas-docs/stable/user_guide/indexing.html#returning-a-view-versus-a-copy\n",
      "  x_test['dept_hours']=pred\n",
      "<ipython-input-47-151244408a78>:4: SettingWithCopyWarning: \n",
      "A value is trying to be set on a copy of a slice from a DataFrame\n",
      "\n",
      "See the caveats in the documentation: https://pandas.pydata.org/pandas-docs/stable/user_guide/indexing.html#returning-a-view-versus-a-copy\n",
      "  x_test['dept_hours'][i]=int(x_test['dept_hours'][i])\n",
      "C:\\Users\\Dell\\anaconda3\\lib\\site-packages\\IPython\\core\\interactiveshell.py:3418: SettingWithCopyWarning: \n",
      "A value is trying to be set on a copy of a slice from a DataFrame\n",
      "\n",
      "See the caveats in the documentation: https://pandas.pydata.org/pandas-docs/stable/user_guide/indexing.html#returning-a-view-versus-a-copy\n",
      "  exec(code_obj, self.user_global_ns, self.user_ns)\n"
     ]
    }
   ],
   "source": [
    "x_test['dept_hours']=pred\n",
    "\n",
    "for i in x_test.index:\n",
    "  x_test['dept_hours'][i]=int(x_test['dept_hours'][i])\n",
    "\n",
    "y_test_1=[]\n",
    "for i in x_test.index:\n",
    "  y_test_1.append(y1[i])\n",
    "y_test_1 = np.asarray(y_test_1)"
   ]
  },
  {
   "cell_type": "code",
   "execution_count": 48,
   "metadata": {
    "colab": {
     "base_uri": "https://localhost:8080/"
    },
    "id": "mBixkpqKbBXl",
    "outputId": "ae0d6435-b7ad-4dff-fbaf-62881cf0b74c"
   },
   "outputs": [
    {
     "name": "stdout",
     "output_type": "stream",
     "text": [
      "RMSE :  0.141890\n",
      "R2 :  0.869850\n"
     ]
    }
   ],
   "source": [
    "import xgboost as xg\n",
    "from sklearn.model_selection import train_test_split\n",
    "from sklearn.metrics import mean_squared_error,mean_absolute_error,r2_score\n",
    "x_train,x_test,y_train,y_test=train_test_split(x_test,y_test_1,test_size=0.25,random_state=0)\n",
    "#x_tr,x_cv,y_tr,y_cv=train_test_split(x_train,y_train,test_size=0.2,random_state=0)\n",
    "\n",
    "from sklearn.ensemble import RandomForestRegressor\n",
    "from xgboost import XGBRegressor\n",
    "from lightgbm import LGBMRegressor\n",
    "from catboost import CatBoostRegressor\n",
    "#ec = CatBoostRegressor()\n",
    "#ec=XGBRegressor()\n",
    "ec_price=LGBMRegressor(n_estimators=1200)\n",
    "ec_price.fit(x_train,y_train)\n",
    "pred = ec_price.predict(x_test)\n",
    "rmse = np.sqrt(mean_squared_error(y_test, pred))\n",
    "r2= r2_score(y_test, pred)\n",
    "print(\"RMSE : % f\" %(rmse))\n",
    "print(\"R2 : % f\" %(r2))"
   ]
  },
  {
   "cell_type": "code",
   "execution_count": 49,
   "metadata": {
    "colab": {
     "base_uri": "https://localhost:8080/",
     "height": 204
    },
    "id": "1Ofi1FuKd_bI",
    "outputId": "14a20d29-2dc8-490e-d10f-9ffe170eca0e"
   },
   "outputs": [
    {
     "data": {
      "text/html": [
       "<div>\n",
       "<style scoped>\n",
       "    .dataframe tbody tr th:only-of-type {\n",
       "        vertical-align: middle;\n",
       "    }\n",
       "\n",
       "    .dataframe tbody tr th {\n",
       "        vertical-align: top;\n",
       "    }\n",
       "\n",
       "    .dataframe thead th {\n",
       "        text-align: right;\n",
       "    }\n",
       "</style>\n",
       "<table border=\"1\" class=\"dataframe\">\n",
       "  <thead>\n",
       "    <tr style=\"text-align: right;\">\n",
       "      <th></th>\n",
       "      <th>Actual_data</th>\n",
       "      <th>Predicted</th>\n",
       "    </tr>\n",
       "  </thead>\n",
       "  <tbody>\n",
       "    <tr>\n",
       "      <th>0</th>\n",
       "      <td>8.492286</td>\n",
       "      <td>8.625503</td>\n",
       "    </tr>\n",
       "    <tr>\n",
       "      <th>1</th>\n",
       "      <td>8.200288</td>\n",
       "      <td>8.227235</td>\n",
       "    </tr>\n",
       "    <tr>\n",
       "      <th>2</th>\n",
       "      <td>8.890411</td>\n",
       "      <td>8.899326</td>\n",
       "    </tr>\n",
       "    <tr>\n",
       "      <th>3</th>\n",
       "      <td>8.926119</td>\n",
       "      <td>8.927194</td>\n",
       "    </tr>\n",
       "    <tr>\n",
       "      <th>4</th>\n",
       "      <td>8.424639</td>\n",
       "      <td>8.710089</td>\n",
       "    </tr>\n",
       "  </tbody>\n",
       "</table>\n",
       "</div>"
      ],
      "text/plain": [
       "   Actual_data  Predicted\n",
       "0     8.492286   8.625503\n",
       "1     8.200288   8.227235\n",
       "2     8.890411   8.899326\n",
       "3     8.926119   8.927194\n",
       "4     8.424639   8.710089"
      ]
     },
     "execution_count": 49,
     "metadata": {},
     "output_type": "execute_result"
    }
   ],
   "source": [
    "pd.DataFrame({\"Actual_data\":y_test,\"Predicted\":pred}).head()"
   ]
  },
  {
   "cell_type": "code",
   "execution_count": 50,
   "metadata": {
    "id": "h53f7qHvhIRX"
   },
   "outputs": [],
   "source": [
    "pickle.dump(ec_price,open(\"EC_PRICE_MODEL.pickle\",\"wb\"))"
   ]
  },
  {
   "cell_type": "code",
   "execution_count": 51,
   "metadata": {
    "colab": {
     "base_uri": "https://localhost:8080/"
    },
    "id": "auw1PtWjEg_a",
    "outputId": "9ae0751c-f2a4-4178-ed25-6fab70704494"
   },
   "outputs": [
    {
     "name": "stdout",
     "output_type": "stream",
     "text": [
      "{'New Delhi': 19, 'Mumbai': 17, 'Bengaluru': 2, 'Hyderabad': 9, 'Kolkata': 13, 'Chennai': 5, 'Patna': 20, 'Lucknow': 15, 'Kochi': 12, 'Guwahati': 8, 'Goa': 7, 'Jaipur': 11, 'Srinagar': 25, 'Pune': 22, 'Bagdogra': 1, 'Bhubaneswar': 3, 'Varanasi': 28, 'Visakhapatnam': 29, 'Chandigarh': 4, 'Ranchi': 24, 'Raipur': 23, 'Amritsar': 0, 'Indore': 10, 'Nagpur': 18, 'Coimbatore': 6, 'Thiruvananthapuram': 26, 'Port Blair': 21, 'Mangalore': 16, 'Kozhikode': 14, 'Tiruchirappalli': 27}\n",
      "----------\n",
      "{'New Delhi ': 19, 'Mumbai ': 17, 'Bengaluru ': 2, 'Kolkata ': 13, 'Hyderabad ': 9, 'Chennai ': 5, 'Patna ': 20, 'Lucknow ': 15, 'Kochi ': 12, 'Guwahati ': 8, 'Goa ': 7, 'Jaipur ': 11, 'Bhubaneswar ': 3, 'Pune ': 22, 'Visakhapatnam ': 29, 'Srinagar ': 25, 'Chandigarh ': 4, 'Varanasi ': 28, 'Raipur ': 23, 'Ranchi ': 24, 'Bagdogra ': 1, 'Coimbatore ': 6, 'Port Blair ': 21, 'Nagpur ': 18, 'Indore ': 10, 'Amritsar ': 0, 'Mangalore ': 16, 'Thiruvananthapuram ': 26, 'Tiruchirappalli ': 27, 'Kozhikode ': 14}\n",
      "----------\n",
      "{'IndiGo': 3, 'Air India': 0, 'Go Air': 2, 'Spicejet': 4, 'AirAsia': 1, 'Vistara': 5}\n",
      "----------\n",
      "{'Morning_flight': 2, 'Afternoon_flight': 0, 'Evening_flight': 1, 'Night_flight': 3}\n"
     ]
    }
   ],
   "source": [
    "import pickle\n",
    "a=economy_class[\"Dept_city\"].value_counts().keys()\n",
    "b=economy_dff[\"Dept_city\"].value_counts().keys()\n",
    "ec_dept_city=dict()\n",
    "for i in range(len(a)):\n",
    "  ec_dept_city[b[i]]=a[i]\n",
    "print(ec_dept_city)\n",
    "print(\"-\"*10)\n",
    "#----------------\n",
    "pickle.dump(ec_dept_city,open(\"EC_dep_city_label.pickle\",\"wb\"))\n",
    "#----------------\n",
    "a=economy_class[\"arrival_city\"].value_counts().keys()\n",
    "b=economy_dff[\"arrival_city\"].value_counts().keys()\n",
    "ec_A_city=dict()\n",
    "for i in range(len(a)):\n",
    "  ec_A_city[b[i]]=a[i]\n",
    "\n",
    "print(ec_A_city)\n",
    "print(\"-\"*10)\n",
    "#----------------\n",
    "pickle.dump(ec_A_city,open(\"EC_arr_city_label.pickle\",\"wb\"))\n",
    "#----------------\n",
    "\n",
    "a=economy_class[\"Airline\"].value_counts().keys()\n",
    "b=economy_dff[\"Airline\"].value_counts().keys()\n",
    "ec_airline=dict()\n",
    "for i in range(len(a)):\n",
    "  ec_airline[b[i]]=a[i]\n",
    "print(ec_airline)\n",
    "print(\"-\"*10)\n",
    "\n",
    "ec_airline_2 = {0:'Air India', 5:'Vistara', 3:'IndiGo', 2:'Go Air', 4:'Spicejet', 1:'AirAsia'}\n",
    "\n",
    "#----------------\n",
    "pickle.dump(ec_airline_2,open(\"EC_ARLINE_CITY_label.pickle\",\"wb\"))\n",
    "#----------------\n",
    "\n",
    "a=economy_class[\"Dept_flights_time\"].value_counts().keys()\n",
    "b=economy_dff[\"Dept_flights_time\"].value_counts().keys()\n",
    "time_flight_ec=dict()\n",
    "for i in range(len(a)):\n",
    "  time_flight_ec[b[i]]=a[i]\n",
    "\n",
    "print(time_flight_ec)\n"
   ]
  },
  {
   "cell_type": "code",
   "execution_count": 52,
   "metadata": {
    "id": "nMYCZWePCNvo"
   },
   "outputs": [],
   "source": [
    "pickle.dump(ec,open(\"economy_model.pickle\",\"wb\"))"
   ]
  },
  {
   "cell_type": "markdown",
   "metadata": {
    "id": "EsNVNjxG-A3L"
   },
   "source": [
    "## Bussiness class"
   ]
  },
  {
   "cell_type": "code",
   "execution_count": 53,
   "metadata": {
    "colab": {
     "base_uri": "https://localhost:8080/",
     "height": 204
    },
    "id": "DeOKhhpRAyAi",
    "outputId": "d1d54f43-dd9d-4588-d301-6a4ef49c0475"
   },
   "outputs": [
    {
     "data": {
      "text/html": [
       "<div>\n",
       "<style scoped>\n",
       "    .dataframe tbody tr th:only-of-type {\n",
       "        vertical-align: middle;\n",
       "    }\n",
       "\n",
       "    .dataframe tbody tr th {\n",
       "        vertical-align: top;\n",
       "    }\n",
       "\n",
       "    .dataframe thead th {\n",
       "        text-align: right;\n",
       "    }\n",
       "</style>\n",
       "<table border=\"1\" class=\"dataframe\">\n",
       "  <thead>\n",
       "    <tr style=\"text-align: right;\">\n",
       "      <th></th>\n",
       "      <th>Price</th>\n",
       "      <th>Airline</th>\n",
       "      <th>Cabin</th>\n",
       "      <th>Dept_city</th>\n",
       "      <th>Dept_date</th>\n",
       "      <th>arrival_city</th>\n",
       "      <th>stops</th>\n",
       "      <th>duration</th>\n",
       "      <th>weekday</th>\n",
       "      <th>dept_hours</th>\n",
       "      <th>Dept_flights_time</th>\n",
       "      <th>optimal_time</th>\n",
       "    </tr>\n",
       "  </thead>\n",
       "  <tbody>\n",
       "    <tr>\n",
       "      <th>255026</th>\n",
       "      <td>9.980078</td>\n",
       "      <td>Air India</td>\n",
       "      <td>B</td>\n",
       "      <td>New Delhi</td>\n",
       "      <td>2</td>\n",
       "      <td>Mumbai</td>\n",
       "      <td>0</td>\n",
       "      <td>130</td>\n",
       "      <td>6</td>\n",
       "      <td>20</td>\n",
       "      <td>Evening_flight</td>\n",
       "      <td>16</td>\n",
       "    </tr>\n",
       "    <tr>\n",
       "      <th>255027</th>\n",
       "      <td>9.980078</td>\n",
       "      <td>Air India</td>\n",
       "      <td>B</td>\n",
       "      <td>New Delhi</td>\n",
       "      <td>2</td>\n",
       "      <td>Mumbai</td>\n",
       "      <td>1</td>\n",
       "      <td>190</td>\n",
       "      <td>6</td>\n",
       "      <td>15</td>\n",
       "      <td>Afternoon_flight</td>\n",
       "      <td>11</td>\n",
       "    </tr>\n",
       "    <tr>\n",
       "      <th>255028</th>\n",
       "      <td>9.980078</td>\n",
       "      <td>Air India</td>\n",
       "      <td>B</td>\n",
       "      <td>New Delhi</td>\n",
       "      <td>2</td>\n",
       "      <td>Mumbai</td>\n",
       "      <td>1</td>\n",
       "      <td>225</td>\n",
       "      <td>6</td>\n",
       "      <td>17</td>\n",
       "      <td>Evening_flight</td>\n",
       "      <td>13</td>\n",
       "    </tr>\n",
       "    <tr>\n",
       "      <th>255029</th>\n",
       "      <td>9.990399</td>\n",
       "      <td>Vistara</td>\n",
       "      <td>B</td>\n",
       "      <td>New Delhi</td>\n",
       "      <td>2</td>\n",
       "      <td>Mumbai</td>\n",
       "      <td>0</td>\n",
       "      <td>130</td>\n",
       "      <td>6</td>\n",
       "      <td>15</td>\n",
       "      <td>Afternoon_flight</td>\n",
       "      <td>11</td>\n",
       "    </tr>\n",
       "    <tr>\n",
       "      <th>255030</th>\n",
       "      <td>9.990399</td>\n",
       "      <td>Vistara</td>\n",
       "      <td>B</td>\n",
       "      <td>New Delhi</td>\n",
       "      <td>2</td>\n",
       "      <td>Mumbai</td>\n",
       "      <td>0</td>\n",
       "      <td>140</td>\n",
       "      <td>6</td>\n",
       "      <td>17</td>\n",
       "      <td>Evening_flight</td>\n",
       "      <td>13</td>\n",
       "    </tr>\n",
       "  </tbody>\n",
       "</table>\n",
       "</div>"
      ],
      "text/plain": [
       "           Price    Airline Cabin  Dept_city  Dept_date arrival_city  stops  \\\n",
       "255026  9.980078  Air India     B  New Delhi          2      Mumbai       0   \n",
       "255027  9.980078  Air India     B  New Delhi          2      Mumbai       1   \n",
       "255028  9.980078  Air India     B  New Delhi          2      Mumbai       1   \n",
       "255029  9.990399    Vistara     B  New Delhi          2      Mumbai       0   \n",
       "255030  9.990399    Vistara     B  New Delhi          2      Mumbai       0   \n",
       "\n",
       "        duration  weekday  dept_hours Dept_flights_time  optimal_time  \n",
       "255026       130        6          20    Evening_flight            16  \n",
       "255027       190        6          15  Afternoon_flight            11  \n",
       "255028       225        6          17    Evening_flight            13  \n",
       "255029       130        6          15  Afternoon_flight            11  \n",
       "255030       140        6          17    Evening_flight            13  "
      ]
     },
     "execution_count": 53,
     "metadata": {},
     "output_type": "execute_result"
    }
   ],
   "source": [
    "buss_ness_data= df[df['Cabin'] == \"B\"]\n",
    "buss_ness_data.head()"
   ]
  },
  {
   "cell_type": "code",
   "execution_count": 54,
   "metadata": {
    "id": "LET8-1y5Lpes"
   },
   "outputs": [],
   "source": [
    "buss_ness_dff = buss_ness_data.copy()"
   ]
  },
  {
   "cell_type": "code",
   "execution_count": 55,
   "metadata": {
    "colab": {
     "base_uri": "https://localhost:8080/"
    },
    "id": "ELGEah859_EF",
    "outputId": "31ae7d3e-cb85-4dee-c569-ec10059773b6"
   },
   "outputs": [
    {
     "name": "stderr",
     "output_type": "stream",
     "text": [
      "C:\\Users\\Dell\\anaconda3\\lib\\site-packages\\pandas\\core\\frame.py:4163: SettingWithCopyWarning: \n",
      "A value is trying to be set on a copy of a slice from a DataFrame\n",
      "\n",
      "See the caveats in the documentation: https://pandas.pydata.org/pandas-docs/stable/user_guide/indexing.html#returning-a-view-versus-a-copy\n",
      "  return super().drop(\n",
      "C:\\Users\\Dell\\anaconda3\\lib\\site-packages\\sklearn\\utils\\validation.py:72: DataConversionWarning: A column-vector y was passed when a 1d array was expected. Please change the shape of y to (n_samples, ), for example using ravel().\n",
      "  return f(**kwargs)\n",
      "<ipython-input-55-806b86e960b8>:7: SettingWithCopyWarning: \n",
      "A value is trying to be set on a copy of a slice from a DataFrame.\n",
      "Try using .loc[row_indexer,col_indexer] = value instead\n",
      "\n",
      "See the caveats in the documentation: https://pandas.pydata.org/pandas-docs/stable/user_guide/indexing.html#returning-a-view-versus-a-copy\n",
      "  buss_ness_data[i]=encoder.fit_transform(buss_ness_data[[i]])\n"
     ]
    },
    {
     "name": "stdout",
     "output_type": "stream",
     "text": [
      "RMSE :  0.000000\n",
      "R2 :  1.000000\n"
     ]
    }
   ],
   "source": [
    "y1=buss_ness_data[\"Price\"]\n",
    "buss_ness_data.drop(columns=['duration','Cabin'],axis=1,inplace=True)\n",
    "x=[\"Airline\",\"Dept_flights_time\",\"Dept_city\",\"arrival_city\"]\n",
    "from sklearn.preprocessing import LabelEncoder\n",
    "for i in x:\n",
    "  encoder=LabelEncoder()\n",
    "  buss_ness_data[i]=encoder.fit_transform(buss_ness_data[[i]])\n",
    "\n",
    "x=buss_ness_data.drop([\"Price\",\"optimal_time\"],axis=1)\n",
    "y=buss_ness_data[\"optimal_time\"]\n",
    "\n",
    "import xgboost as xg\n",
    "from sklearn.model_selection import train_test_split\n",
    "from sklearn.metrics import mean_squared_error,mean_absolute_error,r2_score\n",
    "x_train,x_test,y_train,y_test=train_test_split(x,y,test_size=0.25,random_state=0)\n",
    "#x_tr,x_cv,y_tr,y_cv=train_test_split(x_train,y_train,test_size=0.2,random_state=0)\n",
    "\n",
    "from sklearn.ensemble import RandomForestRegressor\n",
    "from sklearn.linear_model import LinearRegression,LassoCV,RidgeCV\n",
    "from sklearn.tree import DecisionTreeRegressor,ExtraTreeRegressor\n",
    "from sklearn.neighbors import KNeighborsRegressor\n",
    "from lightgbm import LGBMRegressor\n",
    "from lightgbm import LGBMRegressor\n",
    "#bs = CatBoostRegressor()\n",
    "bs=LGBMRegressor(n_estimators=1000)\n",
    "#bs=RandomForestRegressor(n_estimators=100 )\n",
    "bs.fit(x_train,y_train)\n",
    "#pred = rfg.predict(x_cv)\n",
    "pred = bs.predict(x_test)\n",
    "rmse = np.sqrt(mean_squared_error(y_test, pred))\n",
    "r2= r2_score(y_test, pred)\n",
    "print(\"RMSE : % f\" %(rmse))\n",
    "print(\"R2 : % f\" %(r2))\n"
   ]
  },
  {
   "cell_type": "code",
   "execution_count": 56,
   "metadata": {
    "id": "6YBhJe8sjzdB"
   },
   "outputs": [],
   "source": [
    "pickle.dump(bs,open(\"BUSSINE_TIME_MODEL.pickle\",\"wb\"))"
   ]
  },
  {
   "cell_type": "code",
   "execution_count": 57,
   "metadata": {
    "colab": {
     "base_uri": "https://localhost:8080/"
    },
    "id": "lYx4BP0Zj-Z4",
    "outputId": "c6ee37a8-9bb7-437e-c9cd-1de9b8a52af3"
   },
   "outputs": [
    {
     "name": "stderr",
     "output_type": "stream",
     "text": [
      "<ipython-input-57-151244408a78>:1: SettingWithCopyWarning: \n",
      "A value is trying to be set on a copy of a slice from a DataFrame.\n",
      "Try using .loc[row_indexer,col_indexer] = value instead\n",
      "\n",
      "See the caveats in the documentation: https://pandas.pydata.org/pandas-docs/stable/user_guide/indexing.html#returning-a-view-versus-a-copy\n",
      "  x_test['dept_hours']=pred\n",
      "<ipython-input-57-151244408a78>:4: SettingWithCopyWarning: \n",
      "A value is trying to be set on a copy of a slice from a DataFrame\n",
      "\n",
      "See the caveats in the documentation: https://pandas.pydata.org/pandas-docs/stable/user_guide/indexing.html#returning-a-view-versus-a-copy\n",
      "  x_test['dept_hours'][i]=int(x_test['dept_hours'][i])\n",
      "C:\\Users\\Dell\\anaconda3\\lib\\site-packages\\IPython\\core\\interactiveshell.py:3418: SettingWithCopyWarning: \n",
      "A value is trying to be set on a copy of a slice from a DataFrame\n",
      "\n",
      "See the caveats in the documentation: https://pandas.pydata.org/pandas-docs/stable/user_guide/indexing.html#returning-a-view-versus-a-copy\n",
      "  exec(code_obj, self.user_global_ns, self.user_ns)\n"
     ]
    }
   ],
   "source": [
    "x_test['dept_hours']=pred\n",
    "\n",
    "for i in x_test.index:\n",
    "  x_test['dept_hours'][i]=int(x_test['dept_hours'][i])\n",
    "\n",
    "y_test_1=[]\n",
    "for i in x_test.index:\n",
    "  y_test_1.append(y1[i])\n",
    "y_test_1 = np.asarray(y_test_1)"
   ]
  },
  {
   "cell_type": "code",
   "execution_count": 58,
   "metadata": {
    "colab": {
     "base_uri": "https://localhost:8080/"
    },
    "id": "ddLxn5ogkCIU",
    "outputId": "4797c40d-1657-4e04-911b-a1b8bac4ab56"
   },
   "outputs": [
    {
     "name": "stdout",
     "output_type": "stream",
     "text": [
      "RMSE :  0.121185\n",
      "R2 :  0.899513\n"
     ]
    }
   ],
   "source": [
    "import xgboost as xg\n",
    "from sklearn.model_selection import train_test_split\n",
    "from sklearn.metrics import mean_squared_error,mean_absolute_error,r2_score\n",
    "x_train,x_test,y_train,y_test=train_test_split(x_test,y_test_1,test_size=0.25,random_state=0)\n",
    "#x_tr,x_cv,y_tr,y_cv=train_test_split(x_train,y_train,test_size=0.2,random_state=0)\n",
    "\n",
    "from sklearn.ensemble import RandomForestRegressor\n",
    "from sklearn.linear_model import LinearRegression,LassoCV,RidgeCV\n",
    "from sklearn.tree import DecisionTreeRegressor,ExtraTreeRegressor\n",
    "from sklearn.neighbors import KNeighborsRegressor\n",
    "from lightgbm import LGBMRegressor\n",
    "from lightgbm import LGBMRegressor\n",
    "#bs = CatBoostRegressor()\n",
    "bs_price=LGBMRegressor(n_estimators=1000)\n",
    "#bs=RandomForestRegressor(n_estimators=100 )\n",
    "bs_price.fit(x_train,y_train)\n",
    "#pred = rfg.predict(x_cv)\n",
    "pred = bs_price.predict(x_test)\n",
    "rmse = np.sqrt(mean_squared_error(y_test, pred))\n",
    "r2= r2_score(y_test, pred)\n",
    "print(\"RMSE : % f\" %(rmse))\n",
    "print(\"R2 : % f\" %(r2))\n"
   ]
  },
  {
   "cell_type": "code",
   "execution_count": 59,
   "metadata": {
    "id": "zVDuCn4kkmdr"
   },
   "outputs": [],
   "source": [
    "pickle.dump(bs_price,open(\"BUSSINESS_PRICE_MODEL.pickle\",\"wb\"))"
   ]
  },
  {
   "cell_type": "code",
   "execution_count": 60,
   "metadata": {
    "colab": {
     "base_uri": "https://localhost:8080/"
    },
    "id": "LY7MoHDqLvu0",
    "outputId": "fb64ef4b-fe30-41dc-c1b7-d55521b9e632"
   },
   "outputs": [
    {
     "name": "stdout",
     "output_type": "stream",
     "text": [
      "{'Mumbai': 17, 'New Delhi': 19, 'Bengaluru': 2, 'Hyderabad': 9, 'Kolkata': 13, 'Amritsar': 0, 'Chennai': 5, 'Lucknow': 15, 'Patna': 20, 'Srinagar': 25, 'Bhubaneswar': 3, 'Pune': 22, 'Port Blair': 21, 'Visakhapatnam': 28, 'Varanasi': 27, 'Indore': 10, 'Raipur': 23, 'Goa': 7, 'Guwahati': 8, 'Ranchi': 24, 'Kochi': 12, 'Nagpur': 18, 'Jaipur': 11, 'Coimbatore': 6, 'Mangalore': 16, 'Bagdogra': 1, 'Thiruvananthapuram': 26, 'Chandigarh': 4, 'Kozhikode': 14}\n",
      "----------\n",
      "{'Mumbai ': 17, 'New Delhi ': 19, 'Bengaluru ': 2, 'Kolkata ': 13, 'Hyderabad ': 9, 'Chennai ': 5, 'Lucknow ': 15, 'Bhubaneswar ': 3, 'Amritsar ': 0, 'Patna ': 20, 'Pune ': 22, 'Indore ': 10, 'Port Blair ': 21, 'Visakhapatnam ': 28, 'Raipur ': 23, 'Coimbatore ': 6, 'Srinagar ': 25, 'Varanasi ': 27, 'Goa ': 7, 'Nagpur ': 18, 'Guwahati ': 8, 'Jaipur ': 11, 'Kochi ': 12, 'Thiruvananthapuram ': 26, 'Ranchi ': 24, 'Bagdogra ': 1, 'Mangalore ': 16, 'Chandigarh ': 4, 'Kozhikode ': 14}\n",
      "----------\n",
      "{'Air India': 0, 'Vistara': 1}\n",
      "----------\n",
      "{'Morning_flight': 2, 'Afternoon_flight': 0, 'Evening_flight': 1, 'Night_flight': 3}\n"
     ]
    }
   ],
   "source": [
    "a=buss_ness_data[\"Dept_city\"].value_counts().keys()\n",
    "b=buss_ness_dff[\"Dept_city\"].value_counts().keys()\n",
    "bs_dept_city=dict()\n",
    "for i in range(len(a)):\n",
    "  bs_dept_city[b[i]]=a[i]\n",
    "print(bs_dept_city)\n",
    "print(\"-\"*10)\n",
    "#----------------\n",
    "pickle.dump(bs_dept_city,open(\"BS_DEP_CITY.pickle\",\"wb\"))\n",
    "#----------------\n",
    "\n",
    "a=buss_ness_data[\"arrival_city\"].value_counts().keys()\n",
    "b=buss_ness_dff[\"arrival_city\"].value_counts().keys()\n",
    "bs_A_city=dict()\n",
    "for i in range(len(a)):\n",
    "  bs_A_city[b[i]]=a[i]\n",
    "\n",
    "print(bs_A_city)\n",
    "print(\"-\"*10)\n",
    "#----------------\n",
    "pickle.dump(bs_A_city,open(\"BS_ARR_CITY.pickle\",\"wb\"))\n",
    "#----------------\n",
    "\n",
    "\n",
    "a=buss_ness_data[\"Airline\"].value_counts().keys()\n",
    "b=buss_ness_dff[\"Airline\"].value_counts().keys()\n",
    "bs_airline=dict()\n",
    "for i in range(len(a)):\n",
    "  bs_airline[b[i]]=a[i]\n",
    "print(bs_airline)\n",
    "print(\"-\"*10)\n",
    "\n",
    "bs_airline_2 = {0:'Air India', 1:'Vistara'}\n",
    "#----------------\n",
    "pickle.dump(bs_airline_2,open(\"BS_Airline.pickle\",\"wb\"))\n",
    "#----------------\n",
    "\n",
    "\n",
    "a=buss_ness_data[\"Dept_flights_time\"].value_counts().keys()\n",
    "b=buss_ness_dff[\"Dept_flights_time\"].value_counts().keys()\n",
    "time_flight_bs=dict()\n",
    "for i in range(len(a)):\n",
    "  time_flight_bs[b[i]]=a[i]\n",
    "\n",
    "print(time_flight_bs)\n"
   ]
  },
  {
   "cell_type": "code",
   "execution_count": 61,
   "metadata": {
    "id": "JsX5qvE9BHvF"
   },
   "outputs": [],
   "source": [
    "import pickle\n",
    "pickle.dump(bs,open(\"bussiness_class_model.pickle\",\"wb\"))"
   ]
  },
  {
   "cell_type": "markdown",
   "metadata": {
    "id": "zmDj9C4O-GFC"
   },
   "source": [
    "## Primary Economy class"
   ]
  },
  {
   "cell_type": "code",
   "execution_count": 62,
   "metadata": {
    "colab": {
     "base_uri": "https://localhost:8080/",
     "height": 204
    },
    "id": "WGSLhzpSCy71",
    "outputId": "b1804e52-a90e-4104-965d-666ed72564b3"
   },
   "outputs": [
    {
     "data": {
      "text/html": [
       "<div>\n",
       "<style scoped>\n",
       "    .dataframe tbody tr th:only-of-type {\n",
       "        vertical-align: middle;\n",
       "    }\n",
       "\n",
       "    .dataframe tbody tr th {\n",
       "        vertical-align: top;\n",
       "    }\n",
       "\n",
       "    .dataframe thead th {\n",
       "        text-align: right;\n",
       "    }\n",
       "</style>\n",
       "<table border=\"1\" class=\"dataframe\">\n",
       "  <thead>\n",
       "    <tr style=\"text-align: right;\">\n",
       "      <th></th>\n",
       "      <th>Price</th>\n",
       "      <th>Airline</th>\n",
       "      <th>Cabin</th>\n",
       "      <th>Dept_city</th>\n",
       "      <th>Dept_date</th>\n",
       "      <th>arrival_city</th>\n",
       "      <th>stops</th>\n",
       "      <th>duration</th>\n",
       "      <th>weekday</th>\n",
       "      <th>dept_hours</th>\n",
       "      <th>Dept_flights_time</th>\n",
       "      <th>optimal_time</th>\n",
       "    </tr>\n",
       "  </thead>\n",
       "  <tbody>\n",
       "    <tr>\n",
       "      <th>317799</th>\n",
       "      <td>8.832734</td>\n",
       "      <td>Spicejet</td>\n",
       "      <td>PE</td>\n",
       "      <td>New Delhi</td>\n",
       "      <td>10</td>\n",
       "      <td>Chennai</td>\n",
       "      <td>0</td>\n",
       "      <td>160</td>\n",
       "      <td>0</td>\n",
       "      <td>18</td>\n",
       "      <td>Evening_flight</td>\n",
       "      <td>14</td>\n",
       "    </tr>\n",
       "    <tr>\n",
       "      <th>317800</th>\n",
       "      <td>9.406565</td>\n",
       "      <td>Spicejet</td>\n",
       "      <td>PE</td>\n",
       "      <td>New Delhi</td>\n",
       "      <td>10</td>\n",
       "      <td>Chennai</td>\n",
       "      <td>1</td>\n",
       "      <td>1085</td>\n",
       "      <td>0</td>\n",
       "      <td>19</td>\n",
       "      <td>Evening_flight</td>\n",
       "      <td>15</td>\n",
       "    </tr>\n",
       "    <tr>\n",
       "      <th>317801</th>\n",
       "      <td>9.219895</td>\n",
       "      <td>Spicejet</td>\n",
       "      <td>PE</td>\n",
       "      <td>New Delhi</td>\n",
       "      <td>10</td>\n",
       "      <td>Guwahati</td>\n",
       "      <td>1</td>\n",
       "      <td>75</td>\n",
       "      <td>0</td>\n",
       "      <td>19</td>\n",
       "      <td>Evening_flight</td>\n",
       "      <td>15</td>\n",
       "    </tr>\n",
       "    <tr>\n",
       "      <th>317802</th>\n",
       "      <td>9.374837</td>\n",
       "      <td>Spicejet</td>\n",
       "      <td>PE</td>\n",
       "      <td>New Delhi</td>\n",
       "      <td>10</td>\n",
       "      <td>Patna</td>\n",
       "      <td>0</td>\n",
       "      <td>100</td>\n",
       "      <td>0</td>\n",
       "      <td>19</td>\n",
       "      <td>Evening_flight</td>\n",
       "      <td>15</td>\n",
       "    </tr>\n",
       "    <tr>\n",
       "      <th>317803</th>\n",
       "      <td>8.723719</td>\n",
       "      <td>Vistara</td>\n",
       "      <td>PE</td>\n",
       "      <td>Mumbai</td>\n",
       "      <td>10</td>\n",
       "      <td>New Delhi</td>\n",
       "      <td>0</td>\n",
       "      <td>130</td>\n",
       "      <td>0</td>\n",
       "      <td>19</td>\n",
       "      <td>Evening_flight</td>\n",
       "      <td>15</td>\n",
       "    </tr>\n",
       "  </tbody>\n",
       "</table>\n",
       "</div>"
      ],
      "text/plain": [
       "           Price   Airline Cabin  Dept_city  Dept_date arrival_city  stops  \\\n",
       "317799  8.832734  Spicejet    PE  New Delhi         10     Chennai       0   \n",
       "317800  9.406565  Spicejet    PE  New Delhi         10     Chennai       1   \n",
       "317801  9.219895  Spicejet    PE  New Delhi         10    Guwahati       1   \n",
       "317802  9.374837  Spicejet    PE  New Delhi         10       Patna       0   \n",
       "317803  8.723719   Vistara    PE     Mumbai         10   New Delhi       0   \n",
       "\n",
       "        duration  weekday  dept_hours Dept_flights_time  optimal_time  \n",
       "317799       160        0          18    Evening_flight            14  \n",
       "317800      1085        0          19    Evening_flight            15  \n",
       "317801        75        0          19    Evening_flight            15  \n",
       "317802       100        0          19    Evening_flight            15  \n",
       "317803       130        0          19    Evening_flight            15  "
      ]
     },
     "execution_count": 62,
     "metadata": {},
     "output_type": "execute_result"
    }
   ],
   "source": [
    "pe_data= df[df['Cabin'] == \"PE\"]\n",
    "pe_data.head()"
   ]
  },
  {
   "cell_type": "code",
   "execution_count": 63,
   "metadata": {
    "id": "4Q_Gur6aMI7v"
   },
   "outputs": [],
   "source": [
    "pe_dff = pe_data.copy()"
   ]
  },
  {
   "cell_type": "code",
   "execution_count": 64,
   "metadata": {
    "colab": {
     "base_uri": "https://localhost:8080/"
    },
    "id": "HChHBQhZ-Eag",
    "outputId": "e91c01db-db33-476b-d32a-b011bc416bba"
   },
   "outputs": [
    {
     "name": "stderr",
     "output_type": "stream",
     "text": [
      "C:\\Users\\Dell\\anaconda3\\lib\\site-packages\\pandas\\core\\frame.py:4163: SettingWithCopyWarning: \n",
      "A value is trying to be set on a copy of a slice from a DataFrame\n",
      "\n",
      "See the caveats in the documentation: https://pandas.pydata.org/pandas-docs/stable/user_guide/indexing.html#returning-a-view-versus-a-copy\n",
      "  return super().drop(\n",
      "C:\\Users\\Dell\\anaconda3\\lib\\site-packages\\sklearn\\utils\\validation.py:72: DataConversionWarning: A column-vector y was passed when a 1d array was expected. Please change the shape of y to (n_samples, ), for example using ravel().\n",
      "  return f(**kwargs)\n",
      "<ipython-input-64-70193fb1581a>:7: SettingWithCopyWarning: \n",
      "A value is trying to be set on a copy of a slice from a DataFrame.\n",
      "Try using .loc[row_indexer,col_indexer] = value instead\n",
      "\n",
      "See the caveats in the documentation: https://pandas.pydata.org/pandas-docs/stable/user_guide/indexing.html#returning-a-view-versus-a-copy\n",
      "  pe_data[i]=encoder.fit_transform(pe_data[[i]])\n"
     ]
    },
    {
     "name": "stdout",
     "output_type": "stream",
     "text": [
      "RMSE :  0.000000\n",
      "R2 :  1.000000\n"
     ]
    }
   ],
   "source": [
    "y1 = pe_data[\"Price\"]\n",
    "pe_data.drop(columns=['duration','Cabin'],axis=1,inplace=True)\n",
    "x=[\"Airline\",\"Dept_flights_time\",\"Dept_city\",\"arrival_city\"]\n",
    "from sklearn.preprocessing import LabelEncoder\n",
    "for i in x:\n",
    "  encoder=LabelEncoder()\n",
    "  pe_data[i]=encoder.fit_transform(pe_data[[i]])\n",
    "\n",
    "x=pe_data.drop([\"Price\",\"optimal_time\"],axis=1)\n",
    "y=pe_data[\"optimal_time\"]\n",
    "\n",
    "import xgboost as xg\n",
    "from sklearn.model_selection import train_test_split\n",
    "from sklearn.metrics import mean_squared_error,mean_absolute_error,r2_score\n",
    "x_train,x_test,y_train,y_test=train_test_split(x,y,test_size=0.25,random_state=0)\n",
    "\n",
    "from sklearn.ensemble import RandomForestRegressor\n",
    "from lightgbm import LGBMRegressor\n",
    "pe=LGBMRegressor(n_estimators=1500)\n",
    "#pe = CatBoostRegressor()\n",
    "#rfg=RandomForestRegressor(n_estimators=100 )\n",
    "pe.fit(x_train,y_train)\n",
    "#pred = rfg.predict(x_cv)\n",
    "pred = pe.predict(x_test)\n",
    "rmse = np.sqrt(mean_squared_error(y_test, pred))\n",
    "r2= r2_score(y_test, pred)\n",
    "print(\"RMSE : % f\" %(rmse))\n",
    "print(\"R2 : % f\" %(r2))\n"
   ]
  },
  {
   "cell_type": "code",
   "execution_count": 65,
   "metadata": {
    "id": "S3Ebu3HllMJe"
   },
   "outputs": [],
   "source": [
    "pickle.dump(pe,open(\"PE_TIME_MODEL.pickle\",\"wb\"))"
   ]
  },
  {
   "cell_type": "code",
   "execution_count": 66,
   "metadata": {
    "colab": {
     "base_uri": "https://localhost:8080/"
    },
    "id": "11VHlVZ8lIjS",
    "outputId": "f1bdda52-b0b3-4183-de09-3e38b1d8ffb8"
   },
   "outputs": [
    {
     "name": "stderr",
     "output_type": "stream",
     "text": [
      "<ipython-input-66-151244408a78>:1: SettingWithCopyWarning: \n",
      "A value is trying to be set on a copy of a slice from a DataFrame.\n",
      "Try using .loc[row_indexer,col_indexer] = value instead\n",
      "\n",
      "See the caveats in the documentation: https://pandas.pydata.org/pandas-docs/stable/user_guide/indexing.html#returning-a-view-versus-a-copy\n",
      "  x_test['dept_hours']=pred\n",
      "<ipython-input-66-151244408a78>:4: SettingWithCopyWarning: \n",
      "A value is trying to be set on a copy of a slice from a DataFrame\n",
      "\n",
      "See the caveats in the documentation: https://pandas.pydata.org/pandas-docs/stable/user_guide/indexing.html#returning-a-view-versus-a-copy\n",
      "  x_test['dept_hours'][i]=int(x_test['dept_hours'][i])\n",
      "C:\\Users\\Dell\\anaconda3\\lib\\site-packages\\IPython\\core\\interactiveshell.py:3418: SettingWithCopyWarning: \n",
      "A value is trying to be set on a copy of a slice from a DataFrame\n",
      "\n",
      "See the caveats in the documentation: https://pandas.pydata.org/pandas-docs/stable/user_guide/indexing.html#returning-a-view-versus-a-copy\n",
      "  exec(code_obj, self.user_global_ns, self.user_ns)\n"
     ]
    }
   ],
   "source": [
    "x_test['dept_hours']=pred\n",
    "\n",
    "for i in x_test.index:\n",
    "  x_test['dept_hours'][i]=int(x_test['dept_hours'][i])\n",
    "\n",
    "y_test_1=[]\n",
    "for i in x_test.index:\n",
    "  y_test_1.append(y1[i])\n",
    "y_test_1 = np.asarray(y_test_1)"
   ]
  },
  {
   "cell_type": "code",
   "execution_count": 67,
   "metadata": {
    "colab": {
     "base_uri": "https://localhost:8080/"
    },
    "id": "83XmTuOwlYLr",
    "outputId": "cdcd4838-fccb-43de-d5b5-d437df299ac4"
   },
   "outputs": [
    {
     "name": "stdout",
     "output_type": "stream",
     "text": [
      "RMSE :  0.093673\n",
      "R2 :  0.839008\n"
     ]
    }
   ],
   "source": [
    "import xgboost as xg\n",
    "from sklearn.model_selection import train_test_split\n",
    "from sklearn.metrics import mean_squared_error,mean_absolute_error,r2_score\n",
    "x_train,x_test,y_train,y_test=train_test_split(x_test,y_test_1,test_size=0.25,random_state=0)\n",
    "\n",
    "from sklearn.ensemble import RandomForestRegressor\n",
    "from lightgbm import LGBMRegressor\n",
    "pe=LGBMRegressor(n_estimators=1500)\n",
    "#pe = CatBoostRegressor()\n",
    "#rfg=RandomForestRegressor(n_estimators=100 )\n",
    "pe.fit(x_train,y_train)\n",
    "#pred = rfg.predict(x_cv)\n",
    "pred = pe.predict(x_test)\n",
    "rmse = np.sqrt(mean_squared_error(y_test, pred))\n",
    "r2= r2_score(y_test, pred)\n",
    "print(\"RMSE : % f\" %(rmse))\n",
    "print(\"R2 : % f\" %(r2))\n"
   ]
  },
  {
   "cell_type": "code",
   "execution_count": 68,
   "metadata": {
    "id": "PteAMfxfl4JS"
   },
   "outputs": [],
   "source": [
    "pickle.dump(pe,open(\"PE_PRICE_MODEL.pickle\",\"wb\"))"
   ]
  },
  {
   "cell_type": "code",
   "execution_count": 69,
   "metadata": {
    "colab": {
     "base_uri": "https://localhost:8080/"
    },
    "id": "BbZ0q4-OMNxW",
    "outputId": "3bedccd7-60e8-43b3-bc3d-8d4f36316001"
   },
   "outputs": [
    {
     "name": "stdout",
     "output_type": "stream",
     "text": [
      "{'New Delhi': 17, 'Mumbai': 16, 'Goa': 7, 'Chennai': 5, 'Patna': 18, 'Bengaluru': 2, 'Srinagar': 23, 'Guwahati': 8, 'Bagdogra': 1, 'Hyderabad': 9, 'Pune': 20, 'Kolkata': 13, 'Amritsar': 0, 'Varanasi': 25, 'Jaipur': 11, 'Kochi': 12, 'Mangalore': 15, 'Ranchi': 22, 'Bhubaneswar': 3, 'Port Blair': 19, 'Chandigarh': 4, 'Visakhapatnam': 26, 'Indore': 10, 'Raipur': 21, 'Lucknow': 14, 'Thiruvananthapuram': 24, 'Coimbatore': 6}\n",
      "----------\n",
      "{'New Delhi ': 17, 'Mumbai ': 16, 'Goa ': 7, 'Chennai ': 5, 'Guwahati ': 8, 'Patna ': 18, 'Bagdogra ': 1, 'Kolkata ': 13, 'Bengaluru ': 2, 'Srinagar ': 23, 'Pune ': 20, 'Amritsar ': 0, 'Hyderabad ': 9, 'Varanasi ': 25, 'Mangalore ': 15, 'Port Blair ': 19, 'Jaipur ': 11, 'Ranchi ': 22, 'Bhubaneswar ': 3, 'Kochi ': 12, 'Chandigarh ': 4, 'Visakhapatnam ': 26, 'Raipur ': 21, 'Thiruvananthapuram ': 24, 'Lucknow ': 14, 'Indore ': 10, 'Coimbatore ': 6}\n",
      "----------\n",
      "{'Spicejet': 0, 'Vistara': 1}\n",
      "----------\n",
      "{'Evening_flight': 1, 'Morning_flight': 2, 'Afternoon_flight': 0, 'Night_flight': 3}\n"
     ]
    }
   ],
   "source": [
    "a=pe_data[\"Dept_city\"].value_counts().keys()\n",
    "b=pe_dff[\"Dept_city\"].value_counts().keys()\n",
    "pe_dept_city=dict()\n",
    "for i in range(len(a)):\n",
    "  pe_dept_city[b[i]]=a[i]\n",
    "print(pe_dept_city)\n",
    "print(\"-\"*10)\n",
    "\n",
    "#----------------\n",
    "pickle.dump(pe_dept_city,open(\"PE_DEP_CITY.pickle\",\"wb\"))\n",
    "#----------------\n",
    "\n",
    "a=pe_data[\"arrival_city\"].value_counts().keys()\n",
    "b=pe_dff[\"arrival_city\"].value_counts().keys()\n",
    "pe_A_city=dict()\n",
    "for i in range(len(a)):\n",
    "  pe_A_city[b[i]]=a[i]\n",
    "\n",
    "print(pe_A_city)\n",
    "print(\"-\"*10)\n",
    "\n",
    "\n",
    "#----------------\n",
    "pickle.dump(pe_A_city,open(\"PE_ARR_CITY.pickle\",\"wb\"))\n",
    "#----------------\n",
    "\n",
    "\n",
    "a=pe_data[\"Airline\"].value_counts().keys()\n",
    "b=pe_dff[\"Airline\"].value_counts().keys()\n",
    "pe_airline=dict()\n",
    "for i in range(len(a)):\n",
    "  pe_airline[b[i]]=a[i]\n",
    "print(pe_airline)\n",
    "print(\"-\"*10)\n",
    "\n",
    "pe_airline_2 = {1:'Vistara', 0:'Spicejet'}\n",
    "\n",
    "\n",
    "#----------------\n",
    "pickle.dump(pe_airline_2,open(\"PE_AIRLINE.pickle\",\"wb\"))\n",
    "#----------------\n",
    "\n",
    "\n",
    "a=pe_data[\"Dept_flights_time\"].value_counts().keys()\n",
    "b=pe_dff[\"Dept_flights_time\"].value_counts().keys()\n",
    "time_A_city=dict()\n",
    "for i in range(len(a)):\n",
    "  time_A_city[b[i]]=a[i]\n",
    "\n",
    "print(time_A_city)\n",
    "\n"
   ]
  },
  {
   "cell_type": "code",
   "execution_count": 70,
   "metadata": {
    "id": "nmI6_l1vYwbh"
   },
   "outputs": [],
   "source": [
    "pickle.dump(pe,open(\"PE_MODEL.pickle\",\"wb\"))"
   ]
  },
  {
   "cell_type": "markdown",
   "metadata": {
    "id": "u5_abN7o-gK1"
   },
   "source": [
    "## Predictions"
   ]
  },
  {
   "cell_type": "code",
   "execution_count": 71,
   "metadata": {
    "colab": {
     "base_uri": "https://localhost:8080/"
    },
    "id": "Ejn7vchf-LuT",
    "outputId": "ee6949df-83c2-40fa-f979-239c4e0d080c"
   },
   "outputs": [
    {
     "name": "stdout",
     "output_type": "stream",
     "text": [
      "Enter the Departure ciity : New Delhi\n",
      "Enter the Arrival ciity: Mumbai\n",
      "Enter the date of of the journey (YYYY-MM_DD): 2021-05-31\n",
      "Enter the time u want to fly: 15\n",
      "Enter the Cabin: E\n",
      "Enter the stops (ex: 0-6): 2\n"
     ]
    }
   ],
   "source": [
    "dcity=input(\"Enter the Departure ciity : \")\n",
    "acity=input(\"Enter the Arrival ciity: \")\n",
    "date=input(\"Enter the date of of the journey (YYYY-MM_DD): \")\n",
    "time=input(\"Enter the time u want to fly: \")\n",
    "cab=input(\"Enter the Cabin: \")\n",
    "stops = int(input(\"Enter the stops (ex: 0-6): \"))\n",
    "\n",
    "\n",
    "d=date+' 0'+time+':00:00'\n",
    "hour=pd.to_datetime(d).hour\n",
    "day=pd.to_datetime(d).day\n",
    "weekday=pd.to_datetime(d).dayofweek\n",
    "\n",
    "def time(hour):\n",
    "  if hour>=0 and hour <=10:\n",
    "    return 2\n",
    "  elif hour >= 10 and hour <=15:\n",
    "    return 0\n",
    "  elif hour >= 16 and hour <=20:\n",
    "    return 1\n",
    "  elif hour >= 21 and hour <= 23:\n",
    "    return 3\n",
    "  else:\n",
    "    return None\n",
    "\n",
    "flight_time = time(hour)\n",
    "optimal_hour=hour-4"
   ]
  },
  {
   "cell_type": "code",
   "execution_count": 75,
   "metadata": {
    "id": "lrk1GIdm8EIU"
   },
   "outputs": [
    {
     "ename": "IndentationError",
     "evalue": "unindent does not match any outer indentation level (<tokenize>, line 49)",
     "output_type": "error",
     "traceback": [
      "\u001b[1;36m  File \u001b[1;32m\"<tokenize>\"\u001b[1;36m, line \u001b[1;32m49\u001b[0m\n\u001b[1;33m    else:\u001b[0m\n\u001b[1;37m    ^\u001b[0m\n\u001b[1;31mIndentationError\u001b[0m\u001b[1;31m:\u001b[0m unindent does not match any outer indentation level\n"
     ]
    }
   ],
   "source": [
    "if cab == \"E\":\n",
    "        for j in range(6):\n",
    "            if dcity in ec_encoding_dep.keys():\n",
    "                if acity in pe_encoding_arr.keys():\n",
    "                  p_time=economy_model_time.predict([[ j ,ec_encoding_dep[dcity] ,day ,ec_encoding_arr[acity] , stops , weekday ,hour,flight_time]])\n",
    "                  p_load = p_time.reshape(-1,1)\n",
    "                  p_price = economy_model_price.predict(\n",
    "                      [[j, ec_encoding_dep[dcity], day, ec_encoding_arr[acity], stops, weekday, p_load, flight_time]])\n",
    "                  #st.info(f\"Airline: {ec_encoding_airline[j]}  {dcity} <---->  {acity} Optimal hour {i} Price {round(np.exp(p[0]),2)}\")\n",
    "                  pred_final.append([ec_encoding_airline[j] ,dcity,acity ,p_time[0],np.exp(p_price[0])])\n",
    "                else:\n",
    "                    st.write(f\"Sorry, Please check another route currently we don't have a service to this {dcity} <---> {acity} \")\n",
    "                    break\n",
    "            else:\n",
    "                st.write(f\"Sorry, Please check another route currently we don't have a service to this {dcity} <---> {acity} \")\n",
    "                break\n",
    "        elif cab == \"B\":\n",
    "        for j in range(2):\n",
    "            if dcity in bs_encoding_dep.keys():\n",
    "                if acity in bs_encoding_arr.keys():\n",
    "                  p_time=bussiness_model_time.predict([[ j ,bs_encoding_dep[dcity] ,day ,bs_encoding_arr[acity] , stops , weekday ,hour,flight_time]])\n",
    "                  p_load=p_time.reshape(-1,1)\n",
    "                  p_price = bussiness_model_price.predict(\n",
    "                      [[j, ec_encoding_dep[dcity], day, ec_encoding_arr[acity], stops, weekday, p_load, flight_time]])\n",
    "                  #st.write(f\"Airline: {bs_encosing_airline[j]}  {dcity} <---->  {acity} Optimal hour {i} Price {round(np.exp(p[0]),2)}\")\n",
    "                  pred_final.append([bs_encosing_airline[j] ,dcity,acity ,p_time[0],np.exp(p_price[0])])\n",
    "                else:\n",
    "                  st.write(f\"Sorry, Please check another route currently we don't have a service to {dcity} <---> {acity} \")\n",
    "                  break\n",
    "            else:\n",
    "                st.write(f\"Sorry, Please check another route currently we don't have a service to this {dcity} <---> {acity} \")\n",
    "                break\n",
    "        elif cab == \"PE\":\n",
    "        for j in range(2):\n",
    "            if dcity in pe_encoding_dep.keys():\n",
    "                if acity in pe_encoding_arr.keys():\n",
    "                  p_time=pe_model_time.predict([[ j ,pe_encoding_dep[dcity] ,day ,pe_encoding_arr[acity] , stops , weekday ,hour,flight_time]])\n",
    "                  p_load=p_time.reshape(-1,1)\n",
    "                  p_price = pe_model_price.predict(\n",
    "                      [[j, ec_encoding_dep[dcity], day, ec_encoding_arr[acity], stops, weekday, p_load, flight_time]])\n",
    "                  #st.success(f\"Airline: {pe_encoding_airline[j]}  {dcity} <---->  {acity} Optimal hour {i} Price {round(np.exp(p[0]),2)}\")\n",
    "                  pred_final.append([pe_encoding_airline[j] ,dcity,acity ,p_time[0],np.exp(p_price[0])])\n",
    "                else:\n",
    "                    st.write(f\"Sorry, Please check another route currently we don't have a service to this {dcity} <---> {acity} \")\n",
    "                    break\n",
    "            else:\n",
    "                st.write(f\"Sorry, Please check another route currently we don't have a service to this {dcity} <---> {acity} \")\n",
    "                break\n",
    "      else:\n",
    "        return None"
   ]
  },
  {
   "cell_type": "code",
   "execution_count": null,
   "metadata": {
    "id": "Q-cVKU9MLlT0"
   },
   "outputs": [],
   "source": [
    "pred = pd.DataFrame(pred_final)\n",
    "pred_final_2 = pred.sort_values(by=5,ascending=True)"
   ]
  },
  {
   "cell_type": "code",
   "execution_count": null,
   "metadata": {
    "colab": {
     "base_uri": "https://localhost:8080/"
    },
    "id": "2zv5AuYmYLuX",
    "outputId": "d1cd8336-d5c7-433a-8665-19c8a2375a9a"
   },
   "outputs": [],
   "source": [
    "for i in range(len(pred_final_2)):\n",
    "  print(f\"Airline{pred_final_2.iloc[i,0]} {pred_final_2.iloc[i,1]} <====> {pred_final_2.iloc[i,2]} Optimal Hour {pred_final_2.iloc[i,4]} Price = {round(pred_final_2.iloc[i,5],2)}\")\n",
    "  print('--'*20)"
   ]
  },
  {
   "cell_type": "code",
   "execution_count": null,
   "metadata": {
    "id": "6Yrg535_T2Rb"
   },
   "outputs": [],
   "source": []
  }
 ],
 "metadata": {
  "colab": {
   "collapsed_sections": [],
   "name": "New_model.ipynb",
   "provenance": []
  },
  "kernelspec": {
   "display_name": "Python 3",
   "language": "python",
   "name": "python3"
  },
  "language_info": {
   "codemirror_mode": {
    "name": "ipython",
    "version": 3
   },
   "file_extension": ".py",
   "mimetype": "text/x-python",
   "name": "python",
   "nbconvert_exporter": "python",
   "pygments_lexer": "ipython3",
   "version": "3.8.5"
  }
 },
 "nbformat": 4,
 "nbformat_minor": 1
}
